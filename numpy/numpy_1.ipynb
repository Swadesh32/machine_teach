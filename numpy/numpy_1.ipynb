{
 "cells": [
  {
   "cell_type": "code",
   "execution_count": 1,
   "id": "28447744",
   "metadata": {},
   "outputs": [],
   "source": [
    "import numpy as np"
   ]
  },
  {
   "cell_type": "code",
   "execution_count": 2,
   "id": "99e1144b",
   "metadata": {},
   "outputs": [
    {
     "name": "stdout",
     "output_type": "stream",
     "text": [
      "[1 2 3 4]\n"
     ]
    }
   ],
   "source": [
    "arr_1d = np.array([1,2,3,4])\n",
    "print(arr_1d)"
   ]
  },
  {
   "cell_type": "code",
   "execution_count": 3,
   "id": "9bea3eeb",
   "metadata": {},
   "outputs": [
    {
     "data": {
      "text/plain": [
       "numpy.ndarray"
      ]
     },
     "execution_count": 3,
     "metadata": {},
     "output_type": "execute_result"
    }
   ],
   "source": [
    "type(arr_1d)  #type of arr"
   ]
  },
  {
   "cell_type": "code",
   "execution_count": 4,
   "id": "90ae4331",
   "metadata": {},
   "outputs": [
    {
     "data": {
      "text/plain": [
       "1"
      ]
     },
     "execution_count": 4,
     "metadata": {},
     "output_type": "execute_result"
    }
   ],
   "source": [
    "arr_1d.ndim # create 1d"
   ]
  },
  {
   "cell_type": "code",
   "execution_count": 5,
   "id": "643319da",
   "metadata": {},
   "outputs": [
    {
     "name": "stdout",
     "output_type": "stream",
     "text": [
      "[[1 2 3 4]\n",
      " [5 6 7 8]]\n"
     ]
    }
   ],
   "source": [
    "arr_2d =np.array([[1,2,3,4,],[5,6,7,8]])    #create 2d\n",
    "print(arr_2d)"
   ]
  },
  {
   "cell_type": "code",
   "execution_count": 6,
   "id": "c96f9471",
   "metadata": {},
   "outputs": [
    {
     "data": {
      "text/plain": [
       "2"
      ]
     },
     "execution_count": 6,
     "metadata": {},
     "output_type": "execute_result"
    }
   ],
   "source": [
    "arr_2d.ndim   #dimention "
   ]
  },
  {
   "cell_type": "code",
   "execution_count": 7,
   "id": "cb1cf86d",
   "metadata": {},
   "outputs": [
    {
     "data": {
      "text/plain": [
       "8"
      ]
     },
     "execution_count": 7,
     "metadata": {},
     "output_type": "execute_result"
    }
   ],
   "source": [
    "arr_2d.size"
   ]
  },
  {
   "cell_type": "code",
   "execution_count": 8,
   "id": "2da2cd87",
   "metadata": {},
   "outputs": [
    {
     "data": {
      "text/plain": [
       "4"
      ]
     },
     "execution_count": 8,
     "metadata": {},
     "output_type": "execute_result"
    }
   ],
   "source": [
    "arr_1d.size    #size of array\n"
   ]
  },
  {
   "cell_type": "code",
   "execution_count": 9,
   "id": "b6e5d52f",
   "metadata": {},
   "outputs": [
    {
     "data": {
      "text/plain": [
       "(4,)"
      ]
     },
     "execution_count": 9,
     "metadata": {},
     "output_type": "execute_result"
    }
   ],
   "source": [
    "arr_1d.shape"
   ]
  },
  {
   "cell_type": "code",
   "execution_count": 10,
   "id": "7423d982",
   "metadata": {},
   "outputs": [],
   "source": [
    "#(row,coloum)"
   ]
  },
  {
   "cell_type": "code",
   "execution_count": 11,
   "id": "01177237",
   "metadata": {},
   "outputs": [
    {
     "data": {
      "text/plain": [
       "(2, 4)"
      ]
     },
     "execution_count": 11,
     "metadata": {},
     "output_type": "execute_result"
    }
   ],
   "source": [
    "arr_2d.shape #shape of array"
   ]
  },
  {
   "cell_type": "code",
   "execution_count": 12,
   "id": "d29876b4",
   "metadata": {},
   "outputs": [
    {
     "data": {
      "text/plain": [
       "dtype('int32')"
      ]
     },
     "execution_count": 12,
     "metadata": {},
     "output_type": "execute_result"
    }
   ],
   "source": [
    "arr_2d.dtype # data type"
   ]
  },
  {
   "cell_type": "code",
   "execution_count": 13,
   "id": "e0ac0577",
   "metadata": {},
   "outputs": [
    {
     "name": "stdout",
     "output_type": "stream",
     "text": [
      "[[1 2 3 4]\n",
      " [5 6 7 8]]\n"
     ]
    }
   ],
   "source": [
    "print(arr_2d)"
   ]
  },
  {
   "cell_type": "code",
   "execution_count": 14,
   "id": "db3547c0",
   "metadata": {},
   "outputs": [
    {
     "data": {
      "text/plain": [
       "array([1, 2, 3, 4])"
      ]
     },
     "execution_count": 14,
     "metadata": {},
     "output_type": "execute_result"
    }
   ],
   "source": [
    "arr_1d"
   ]
  },
  {
   "cell_type": "code",
   "execution_count": 15,
   "id": "7edad2cd",
   "metadata": {},
   "outputs": [],
   "source": [
    "mat_1s = np.array([[1,1,1,1],[1,1,1,1],[1,1,1,1]])"
   ]
  },
  {
   "cell_type": "code",
   "execution_count": 16,
   "id": "0be9e625",
   "metadata": {},
   "outputs": [
    {
     "name": "stdout",
     "output_type": "stream",
     "text": [
      "[[1 1 1 1]\n",
      " [1 1 1 1]\n",
      " [1 1 1 1]]\n"
     ]
    }
   ],
   "source": [
    "print(mat_1s)"
   ]
  },
  {
   "cell_type": "code",
   "execution_count": 17,
   "id": "0d90b4da",
   "metadata": {},
   "outputs": [
    {
     "data": {
      "text/plain": [
       "numpy.ndarray"
      ]
     },
     "execution_count": 17,
     "metadata": {},
     "output_type": "execute_result"
    }
   ],
   "source": [
    "type(mat_1s)"
   ]
  },
  {
   "cell_type": "code",
   "execution_count": 18,
   "id": "c37e637f",
   "metadata": {},
   "outputs": [],
   "source": [
    "ones_mat =np.ones(5)"
   ]
  },
  {
   "cell_type": "code",
   "execution_count": 19,
   "id": "86c7ab9f",
   "metadata": {},
   "outputs": [
    {
     "name": "stdout",
     "output_type": "stream",
     "text": [
      "[1. 1. 1. 1. 1.]\n"
     ]
    }
   ],
   "source": [
    "print(ones_mat)"
   ]
  },
  {
   "cell_type": "code",
   "execution_count": 20,
   "id": "d16766c6",
   "metadata": {},
   "outputs": [
    {
     "data": {
      "text/plain": [
       "dtype('float64')"
      ]
     },
     "execution_count": 20,
     "metadata": {},
     "output_type": "execute_result"
    }
   ],
   "source": [
    "ones_mat.dtype"
   ]
  },
  {
   "cell_type": "code",
   "execution_count": 21,
   "id": "423ca798",
   "metadata": {},
   "outputs": [
    {
     "name": "stdout",
     "output_type": "stream",
     "text": [
      "[[1. 1. 1. 1.]\n",
      " [1. 1. 1. 1.]\n",
      " [1. 1. 1. 1.]]\n"
     ]
    }
   ],
   "source": [
    "mx_1s= np.ones((3,4))\n",
    "print(mx_1s)"
   ]
  },
  {
   "cell_type": "code",
   "execution_count": 22,
   "id": "7dea2ddd",
   "metadata": {},
   "outputs": [
    {
     "name": "stdout",
     "output_type": "stream",
     "text": [
      "[[1 1 1 1 1]\n",
      " [1 1 1 1 1]\n",
      " [1 1 1 1 1]\n",
      " [1 1 1 1 1]]\n"
     ]
    }
   ],
   "source": [
    "mx_1s =np.ones((4,5),dtype =int)\n",
    "print(mx_1s)"
   ]
  },
  {
   "cell_type": "code",
   "execution_count": 23,
   "id": "25aaf173",
   "metadata": {},
   "outputs": [
    {
     "name": "stdout",
     "output_type": "stream",
     "text": [
      "[[0 0 0 0 0]\n",
      " [0 0 0 0 0]]\n"
     ]
    }
   ],
   "source": [
    "ma_0s= np.zeros((2,5),dtype= int)\n",
    "print(ma_0s)"
   ]
  },
  {
   "cell_type": "code",
   "execution_count": 70,
   "id": "3a0a0b4a",
   "metadata": {
    "scrolled": false
   },
   "outputs": [
    {
     "name": "stdout",
     "output_type": "stream",
     "text": [
      "[[False False False False]\n",
      " [False False False False]\n",
      " [False False False False]]\n"
     ]
    }
   ],
   "source": [
    "ma_0s =np.zeros((3,4),dtype= bool ,order= 'C')\n",
    "print(ma_0s)"
   ]
  },
  {
   "cell_type": "code",
   "execution_count": 62,
   "id": "5ba6d45a",
   "metadata": {},
   "outputs": [
    {
     "name": "stdout",
     "output_type": "stream",
     "text": [
      "[[ True  True  True  True  True  True]\n",
      " [ True  True  True  True  True  True]\n",
      " [ True  True  True  True  True  True]]\n"
     ]
    }
   ],
   "source": [
    "ma_one =np.ones((3,6),dtype = bool)\n",
    "print(ma_one)"
   ]
  },
  {
   "cell_type": "code",
   "execution_count": 25,
   "id": "5772e9e4",
   "metadata": {},
   "outputs": [
    {
     "name": "stdout",
     "output_type": "stream",
     "text": [
      "False\n"
     ]
    }
   ],
   "source": [
    "ma_str =''\n",
    "print(bool(ma_str))"
   ]
  },
  {
   "cell_type": "code",
   "execution_count": 26,
   "id": "c720e5fe",
   "metadata": {},
   "outputs": [
    {
     "name": "stdout",
     "output_type": "stream",
     "text": [
      "True\n"
     ]
    }
   ],
   "source": [
    "max_str ='hello'\n",
    "print(bool(max_str))"
   ]
  },
  {
   "cell_type": "code",
   "execution_count": 27,
   "id": "b1d93faf",
   "metadata": {},
   "outputs": [
    {
     "name": "stdout",
     "output_type": "stream",
     "text": [
      "[['' '' '' '']\n",
      " ['' '' '' '']\n",
      " ['' '' '' '']]\n"
     ]
    }
   ],
   "source": [
    "max_str =np.zeros((3,4),dtype= str)\n",
    "print(max_str)"
   ]
  },
  {
   "cell_type": "code",
   "execution_count": 28,
   "id": "edda372d",
   "metadata": {},
   "outputs": [
    {
     "name": "stdout",
     "output_type": "stream",
     "text": [
      "[['1' '1' '1' '1']\n",
      " ['1' '1' '1' '1']\n",
      " ['1' '1' '1' '1']]\n"
     ]
    }
   ],
   "source": [
    "max_str =np.ones((3,4),dtype= str)\n",
    "print(max_str)"
   ]
  },
  {
   "cell_type": "code",
   "execution_count": 29,
   "id": "a78cffd1",
   "metadata": {},
   "outputs": [
    {
     "name": "stdout",
     "output_type": "stream",
     "text": [
      "[['1' '1' '1' '1']\n",
      " ['1' '1' '1' '1']\n",
      " ['1' '1' '1' '1']]\n"
     ]
    }
   ],
   "source": [
    "print(str(max_str))"
   ]
  },
  {
   "cell_type": "code",
   "execution_count": 30,
   "id": "ac1248b3",
   "metadata": {},
   "outputs": [
    {
     "name": "stdout",
     "output_type": "stream",
     "text": [
      "[[1. 1. 1. 1.]\n",
      " [1. 1. 1. 1.]\n",
      " [1. 1. 1. 1.]]\n"
     ]
    }
   ],
   "source": [
    "em_mx = np.empty((3,4))\n",
    "print(em_mx)"
   ]
  },
  {
   "cell_type": "code",
   "execution_count": 31,
   "id": "f76b8e4e",
   "metadata": {},
   "outputs": [
    {
     "name": "stdout",
     "output_type": "stream",
     "text": [
      "[[0.00000000e+000 0.00000000e+000 0.00000000e+000]\n",
      " [0.00000000e+000 0.00000000e+000 4.44659081e-321]\n",
      " [3.11525958e-307 1.24610723e-306 0.00000000e+000]]\n"
     ]
    }
   ],
   "source": [
    "em_mx =np.empty((3,3))\n",
    "print(em_mx)"
   ]
  },
  {
   "cell_type": "markdown",
   "id": "5306e91d",
   "metadata": {},
   "source": [
    "# REVISION ---->  1"
   ]
  },
  {
   "cell_type": "code",
   "execution_count": 32,
   "id": "8446e5f7",
   "metadata": {},
   "outputs": [],
   "source": [
    "import numpy as np"
   ]
  },
  {
   "cell_type": "code",
   "execution_count": 33,
   "id": "d6da1b52",
   "metadata": {},
   "outputs": [
    {
     "data": {
      "text/plain": [
       "array([ 1,  2,  3, 45])"
      ]
     },
     "execution_count": 33,
     "metadata": {},
     "output_type": "execute_result"
    }
   ],
   "source": [
    "arr1 = np.array([1,2,3,45])\n",
    "arr1"
   ]
  },
  {
   "cell_type": "code",
   "execution_count": 34,
   "id": "beab37f0",
   "metadata": {},
   "outputs": [
    {
     "data": {
      "text/plain": [
       "numpy.ndarray"
      ]
     },
     "execution_count": 34,
     "metadata": {},
     "output_type": "execute_result"
    }
   ],
   "source": [
    "type(arr1)"
   ]
  },
  {
   "cell_type": "code",
   "execution_count": 35,
   "id": "a180816a",
   "metadata": {},
   "outputs": [
    {
     "data": {
      "text/plain": [
       "1"
      ]
     },
     "execution_count": 35,
     "metadata": {},
     "output_type": "execute_result"
    }
   ],
   "source": [
    "arr1.ndim"
   ]
  },
  {
   "cell_type": "code",
   "execution_count": 36,
   "id": "256b00b1",
   "metadata": {},
   "outputs": [
    {
     "data": {
      "text/plain": [
       "4"
      ]
     },
     "execution_count": 36,
     "metadata": {},
     "output_type": "execute_result"
    }
   ],
   "source": [
    "arr1.size"
   ]
  },
  {
   "cell_type": "code",
   "execution_count": 37,
   "id": "3dda26d6",
   "metadata": {},
   "outputs": [
    {
     "data": {
      "text/plain": [
       "dtype('int32')"
      ]
     },
     "execution_count": 37,
     "metadata": {},
     "output_type": "execute_result"
    }
   ],
   "source": [
    "arr1.dtype"
   ]
  },
  {
   "cell_type": "code",
   "execution_count": 38,
   "id": "ea8a8e97",
   "metadata": {},
   "outputs": [
    {
     "data": {
      "text/plain": [
       "array([[1, 2, 3, 4],\n",
       "       [2, 3, 4, 3]])"
      ]
     },
     "execution_count": 38,
     "metadata": {},
     "output_type": "execute_result"
    }
   ],
   "source": [
    "d2_arr =np.array([[1,2,3,4,],[2,3,4,3]])\n",
    "d2_arr"
   ]
  },
  {
   "cell_type": "code",
   "execution_count": 39,
   "id": "544cda79",
   "metadata": {},
   "outputs": [
    {
     "data": {
      "text/plain": [
       "numpy.ndarray"
      ]
     },
     "execution_count": 39,
     "metadata": {},
     "output_type": "execute_result"
    }
   ],
   "source": [
    "type(d2_arr)"
   ]
  },
  {
   "cell_type": "code",
   "execution_count": 40,
   "id": "d402fb59",
   "metadata": {},
   "outputs": [
    {
     "data": {
      "text/plain": [
       "2"
      ]
     },
     "execution_count": 40,
     "metadata": {},
     "output_type": "execute_result"
    }
   ],
   "source": [
    "d2_arr.ndim"
   ]
  },
  {
   "cell_type": "code",
   "execution_count": 41,
   "id": "3031b1f3",
   "metadata": {},
   "outputs": [],
   "source": [
    "mat1 = np.array([[[12,2,2,3],[1,3,4,5],[22,66,3,5]],[[1,2,3,4],[33,44,55,3],[6,7,8,9]]])"
   ]
  },
  {
   "cell_type": "code",
   "execution_count": 42,
   "id": "4c88eb44",
   "metadata": {},
   "outputs": [
    {
     "data": {
      "text/plain": [
       "array([[[12,  2,  2,  3],\n",
       "        [ 1,  3,  4,  5],\n",
       "        [22, 66,  3,  5]],\n",
       "\n",
       "       [[ 1,  2,  3,  4],\n",
       "        [33, 44, 55,  3],\n",
       "        [ 6,  7,  8,  9]]])"
      ]
     },
     "execution_count": 42,
     "metadata": {},
     "output_type": "execute_result"
    }
   ],
   "source": [
    "mat1"
   ]
  },
  {
   "cell_type": "code",
   "execution_count": 43,
   "id": "b25d121f",
   "metadata": {},
   "outputs": [
    {
     "data": {
      "text/plain": [
       "dtype('int32')"
      ]
     },
     "execution_count": 43,
     "metadata": {},
     "output_type": "execute_result"
    }
   ],
   "source": [
    "mat1.dtype"
   ]
  },
  {
   "cell_type": "code",
   "execution_count": 44,
   "id": "4979ed53",
   "metadata": {},
   "outputs": [
    {
     "data": {
      "text/plain": [
       "3"
      ]
     },
     "execution_count": 44,
     "metadata": {},
     "output_type": "execute_result"
    }
   ],
   "source": [
    "mat1.ndim"
   ]
  },
  {
   "cell_type": "code",
   "execution_count": 45,
   "id": "1bd50398",
   "metadata": {},
   "outputs": [
    {
     "data": {
      "text/plain": [
       "24"
      ]
     },
     "execution_count": 45,
     "metadata": {},
     "output_type": "execute_result"
    }
   ],
   "source": [
    "mat1.size"
   ]
  },
  {
   "cell_type": "code",
   "execution_count": 46,
   "id": "3c2dac7b",
   "metadata": {},
   "outputs": [],
   "source": [
    "matrix1 = np.array([[1,2,3,4],[12,3,34,4]])"
   ]
  },
  {
   "cell_type": "code",
   "execution_count": 47,
   "id": "fe5dc5a0",
   "metadata": {},
   "outputs": [],
   "source": [
    "matrix2 = np.array([[1,2,3,4],[12,3,34,4]])"
   ]
  },
  {
   "cell_type": "code",
   "execution_count": 48,
   "id": "0aa6e1be",
   "metadata": {},
   "outputs": [
    {
     "data": {
      "text/plain": [
       "array([[ 2,  4,  6,  8],\n",
       "       [24,  6, 68,  8]])"
      ]
     },
     "execution_count": 48,
     "metadata": {},
     "output_type": "execute_result"
    }
   ],
   "source": [
    "matrix1 +matrix2"
   ]
  },
  {
   "cell_type": "code",
   "execution_count": 49,
   "id": "66769ad7",
   "metadata": {},
   "outputs": [
    {
     "data": {
      "text/plain": [
       "array([[   1,    4,    9,   16],\n",
       "       [ 144,    9, 1156,   16]])"
      ]
     },
     "execution_count": 49,
     "metadata": {},
     "output_type": "execute_result"
    }
   ],
   "source": [
    "matrix1 * matrix2"
   ]
  },
  {
   "cell_type": "code",
   "execution_count": 50,
   "id": "54dc9036",
   "metadata": {},
   "outputs": [
    {
     "data": {
      "text/plain": [
       "array([1., 1., 1., 1., 1.])"
      ]
     },
     "execution_count": 50,
     "metadata": {},
     "output_type": "execute_result"
    }
   ],
   "source": [
    "mat = np.ones(5)\n",
    "\n",
    "mat"
   ]
  },
  {
   "cell_type": "code",
   "execution_count": 51,
   "id": "1d2e9947",
   "metadata": {},
   "outputs": [
    {
     "data": {
      "text/plain": [
       "array([[[1., 1.],\n",
       "        [1., 1.],\n",
       "        [1., 1.],\n",
       "        [1., 1.],\n",
       "        [1., 1.],\n",
       "        [1., 1.]],\n",
       "\n",
       "       [[1., 1.],\n",
       "        [1., 1.],\n",
       "        [1., 1.],\n",
       "        [1., 1.],\n",
       "        [1., 1.],\n",
       "        [1., 1.]]])"
      ]
     },
     "execution_count": 51,
     "metadata": {},
     "output_type": "execute_result"
    }
   ],
   "source": [
    "mat = np.ones((2,6,2))\n",
    "mat"
   ]
  },
  {
   "cell_type": "code",
   "execution_count": 52,
   "id": "c855cf48",
   "metadata": {},
   "outputs": [
    {
     "data": {
      "text/plain": [
       "3"
      ]
     },
     "execution_count": 52,
     "metadata": {},
     "output_type": "execute_result"
    }
   ],
   "source": [
    "mat.ndim"
   ]
  },
  {
   "cell_type": "code",
   "execution_count": 53,
   "id": "5e6f87e4",
   "metadata": {},
   "outputs": [],
   "source": [
    "m =np.zeros((2,5))"
   ]
  },
  {
   "cell_type": "code",
   "execution_count": 54,
   "id": "17cb2456",
   "metadata": {},
   "outputs": [
    {
     "data": {
      "text/plain": [
       "array([[0., 0., 0., 0., 0.],\n",
       "       [0., 0., 0., 0., 0.]])"
      ]
     },
     "execution_count": 54,
     "metadata": {},
     "output_type": "execute_result"
    }
   ],
   "source": [
    "m"
   ]
  },
  {
   "cell_type": "code",
   "execution_count": 55,
   "id": "746ec9d5",
   "metadata": {},
   "outputs": [],
   "source": [
    "m =np.empty((5,2))"
   ]
  },
  {
   "cell_type": "code",
   "execution_count": 56,
   "id": "20d0936d",
   "metadata": {},
   "outputs": [
    {
     "data": {
      "text/plain": [
       "array([[0., 0.],\n",
       "       [0., 0.],\n",
       "       [0., 0.],\n",
       "       [0., 0.],\n",
       "       [0., 0.]])"
      ]
     },
     "execution_count": 56,
     "metadata": {},
     "output_type": "execute_result"
    }
   ],
   "source": [
    "m"
   ]
  },
  {
   "cell_type": "code",
   "execution_count": 57,
   "id": "d0bfc2a4",
   "metadata": {},
   "outputs": [
    {
     "data": {
      "text/plain": [
       "2"
      ]
     },
     "execution_count": 57,
     "metadata": {},
     "output_type": "execute_result"
    }
   ],
   "source": [
    "m.ndim"
   ]
  },
  {
   "cell_type": "code",
   "execution_count": 58,
   "id": "1a48825f",
   "metadata": {},
   "outputs": [
    {
     "data": {
      "text/plain": [
       "2"
      ]
     },
     "execution_count": 58,
     "metadata": {},
     "output_type": "execute_result"
    }
   ],
   "source": [
    "m.ndim"
   ]
  },
  {
   "cell_type": "code",
   "execution_count": null,
   "id": "03f46c76",
   "metadata": {},
   "outputs": [],
   "source": [
    "\n"
   ]
  },
  {
   "cell_type": "code",
   "execution_count": 59,
   "id": "ee11fdc7",
   "metadata": {},
   "outputs": [],
   "source": [
    "se =\"helllo\""
   ]
  },
  {
   "cell_type": "code",
   "execution_count": 60,
   "id": "50aeac97",
   "metadata": {},
   "outputs": [
    {
     "name": "stdout",
     "output_type": "stream",
     "text": [
      "True\n"
     ]
    }
   ],
   "source": [
    "print(bool(se))"
   ]
  },
  {
   "cell_type": "markdown",
   "id": "3218ac6e",
   "metadata": {},
   "source": [
    "# revision 2"
   ]
  },
  {
   "cell_type": "code",
   "execution_count": 114,
   "id": "71225de4",
   "metadata": {},
   "outputs": [
    {
     "name": "stdout",
     "output_type": "stream",
     "text": [
      "[[[1 2 3]\n",
      "  [4 5 6]\n",
      "  [7 8 9]]] \n",
      "\n",
      "dim =  3\n",
      "dtype =  <class 'numpy.ndarray'>\n",
      "<class 'str'>\n",
      "(1, 3, 3)\n",
      "int32\n",
      "[[1. 1.]\n",
      " [1. 1.]] \n",
      "\n",
      "[[ True  True]\n",
      " [ True  True]]\n",
      "[[0. 0. 0.]\n",
      " [0. 0. 0.]]\n",
      " \n",
      "[[False False False]\n",
      " [False False False]]\n",
      "('swadesh', ' swadesh')\n",
      "True \n",
      "\n",
      "[['' '' '']\n",
      " ['' '' '']]\n",
      "18\n"
     ]
    },
    {
     "data": {
      "text/plain": [
       "array([[[2, 2, 2],\n",
       "        [2, 4, 6],\n",
       "        [4, 6, 8]],\n",
       "\n",
       "       [[2, 2, 2],\n",
       "        [2, 4, 6],\n",
       "        [4, 6, 8]]])"
      ]
     },
     "execution_count": 114,
     "metadata": {},
     "output_type": "execute_result"
    }
   ],
   "source": [
    "arry = np.array([[[1,2,3],[4,5,6],[7,8,9]]])\n",
    "a=arry.ndim\n",
    "b=type(arry)\n",
    "c= type(str(arry))\n",
    "d= arry.shape\n",
    "e= arry.dtype\n",
    "ones = np.ones((2,2))\n",
    "ones1 = np.ones((2,2),dtype = bool)\n",
    "zeros = np.zeros((2,3),dtype= float)\n",
    "empty = np.empty((2,3),dtype =bool)\n",
    "empty1 = np.empty((2,3),dtype =str)\n",
    "string = \"swadesh\",\" swadesh\"\n",
    "f=  bool(string)\n",
    "mtx1 =np.array([[[1,1,1],[1,2,3],[2,3,4]],[[1,1,1],[1,2,3],[2,3,4]]])\n",
    "mtx2 =np.array([[[1,1,1],[1,2,3],[2,3,4]],[[1,1,1],[1,2,3],[2,3,4]]])\n",
    "g= mtx1.size\n",
    "\n",
    "print(arry,\"\\n\")\n",
    "print(\"dim = \" ,a)\n",
    "print(\"dtype = \" ,b)\n",
    "print(c)\n",
    "print(d)\n",
    "print(e)\n",
    "print(ones,\"\\n\")\n",
    "print(ones1)\n",
    "print(zeros)\n",
    "print(ma_str)\n",
    "print(empty)\n",
    "print(string)\n",
    "print(f,\"\\n\")\n",
    "print(empty1)\n",
    "print(g)\n",
    "mtx1 +mtx2\n"
   ]
  },
  {
   "cell_type": "code",
   "execution_count": null,
   "id": "d470090f",
   "metadata": {},
   "outputs": [],
   "source": []
  }
 ],
 "metadata": {
  "kernelspec": {
   "display_name": "Python 3 (ipykernel)",
   "language": "python",
   "name": "python3"
  },
  "language_info": {
   "codemirror_mode": {
    "name": "ipython",
    "version": 3
   },
   "file_extension": ".py",
   "mimetype": "text/x-python",
   "name": "python",
   "nbconvert_exporter": "python",
   "pygments_lexer": "ipython3",
   "version": "3.11.4"
  }
 },
 "nbformat": 4,
 "nbformat_minor": 5
}
