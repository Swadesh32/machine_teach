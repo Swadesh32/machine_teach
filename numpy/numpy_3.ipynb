{
 "cells": [
  {
   "cell_type": "markdown",
   "id": "de424a2f",
   "metadata": {},
   "source": [
    "# matheatical operation using nupy"
   ]
  },
  {
   "cell_type": "code",
   "execution_count": 1,
   "id": "22bf34a6",
   "metadata": {},
   "outputs": [],
   "source": [
    "import numpy as np"
   ]
  },
  {
   "cell_type": "code",
   "execution_count": 2,
   "id": "b21623e8",
   "metadata": {},
   "outputs": [
    {
     "name": "stdout",
     "output_type": "stream",
     "text": [
      "[[1 2 3]\n",
      " [4 5 6]\n",
      " [7 8 9]]\n",
      "[[1 2 3]\n",
      " [4 5 6]\n",
      " [7 8 9]]\n"
     ]
    }
   ],
   "source": [
    "arr1 =np.arange(1,10).reshape(3,3)\n",
    "arr2 =np.arange(1,10).reshape(3,3)\n",
    "print(arr1)\n",
    "print(arr2)"
   ]
  },
  {
   "cell_type": "code",
   "execution_count": 3,
   "id": "9ca368c3",
   "metadata": {},
   "outputs": [
    {
     "data": {
      "text/plain": [
       "array([[ 2,  4,  6],\n",
       "       [ 8, 10, 12],\n",
       "       [14, 16, 18]])"
      ]
     },
     "execution_count": 3,
     "metadata": {},
     "output_type": "execute_result"
    }
   ],
   "source": [
    "arr1+arr2"
   ]
  },
  {
   "cell_type": "code",
   "execution_count": 4,
   "id": "9053747f",
   "metadata": {},
   "outputs": [
    {
     "data": {
      "text/plain": [
       "array([[0, 0, 0],\n",
       "       [0, 0, 0],\n",
       "       [0, 0, 0]])"
      ]
     },
     "execution_count": 4,
     "metadata": {},
     "output_type": "execute_result"
    }
   ],
   "source": [
    "arr1 -arr2"
   ]
  },
  {
   "cell_type": "code",
   "execution_count": 5,
   "id": "cbbcd1bd",
   "metadata": {},
   "outputs": [
    {
     "data": {
      "text/plain": [
       "array([[ 1,  4,  9],\n",
       "       [16, 25, 36],\n",
       "       [49, 64, 81]])"
      ]
     },
     "execution_count": 5,
     "metadata": {},
     "output_type": "execute_result"
    }
   ],
   "source": [
    "arr1*arr2"
   ]
  },
  {
   "cell_type": "code",
   "execution_count": 6,
   "id": "b4ef4279",
   "metadata": {},
   "outputs": [
    {
     "data": {
      "text/plain": [
       "array([[ 2,  4,  6],\n",
       "       [ 8, 10, 12],\n",
       "       [14, 16, 18]])"
      ]
     },
     "execution_count": 6,
     "metadata": {},
     "output_type": "execute_result"
    }
   ],
   "source": [
    "np.add(arr1,arr2)"
   ]
  },
  {
   "cell_type": "code",
   "execution_count": 7,
   "id": "63b821e3",
   "metadata": {},
   "outputs": [
    {
     "data": {
      "text/plain": [
       "array([[0, 0, 0],\n",
       "       [0, 0, 0],\n",
       "       [0, 0, 0]])"
      ]
     },
     "execution_count": 7,
     "metadata": {},
     "output_type": "execute_result"
    }
   ],
   "source": [
    "np.subtract(arr1,arr2)"
   ]
  },
  {
   "cell_type": "code",
   "execution_count": 8,
   "id": "77c566e7",
   "metadata": {},
   "outputs": [
    {
     "data": {
      "text/plain": [
       "array([[1., 1., 1.],\n",
       "       [1., 1., 1.],\n",
       "       [1., 1., 1.]])"
      ]
     },
     "execution_count": 8,
     "metadata": {},
     "output_type": "execute_result"
    }
   ],
   "source": [
    "np.divide(arr1,arr2)"
   ]
  },
  {
   "cell_type": "code",
   "execution_count": 9,
   "id": "bf43420d",
   "metadata": {},
   "outputs": [
    {
     "data": {
      "text/plain": [
       "array([[ 1,  4,  9],\n",
       "       [16, 25, 36],\n",
       "       [49, 64, 81]])"
      ]
     },
     "execution_count": 9,
     "metadata": {},
     "output_type": "execute_result"
    }
   ],
   "source": [
    "np.multiply(arr1,arr2)"
   ]
  },
  {
   "cell_type": "code",
   "execution_count": 10,
   "id": "4df85345",
   "metadata": {},
   "outputs": [
    {
     "data": {
      "text/plain": [
       "array([[ 30,  36,  42],\n",
       "       [ 66,  81,  96],\n",
       "       [102, 126, 150]])"
      ]
     },
     "execution_count": 10,
     "metadata": {},
     "output_type": "execute_result"
    }
   ],
   "source": [
    "arr1 @ arr2  #production of 2 matrix"
   ]
  },
  {
   "cell_type": "code",
   "execution_count": 11,
   "id": "0d431126",
   "metadata": {},
   "outputs": [
    {
     "data": {
      "text/plain": [
       "array([[ 30,  36,  42],\n",
       "       [ 66,  81,  96],\n",
       "       [102, 126, 150]])"
      ]
     },
     "execution_count": 11,
     "metadata": {},
     "output_type": "execute_result"
    }
   ],
   "source": [
    "arr1.dot(arr2)"
   ]
  },
  {
   "cell_type": "code",
   "execution_count": 12,
   "id": "d2368b0e",
   "metadata": {},
   "outputs": [
    {
     "data": {
      "text/plain": [
       "array([[ 30,  36,  42],\n",
       "       [ 66,  81,  96],\n",
       "       [102, 126, 150]])"
      ]
     },
     "execution_count": 12,
     "metadata": {},
     "output_type": "execute_result"
    }
   ],
   "source": [
    "arr2.dot(arr1)"
   ]
  },
  {
   "cell_type": "code",
   "execution_count": 13,
   "id": "9371deb7",
   "metadata": {},
   "outputs": [
    {
     "data": {
      "text/plain": [
       "array([[1, 2, 3],\n",
       "       [4, 5, 6],\n",
       "       [7, 8, 9]])"
      ]
     },
     "execution_count": 13,
     "metadata": {},
     "output_type": "execute_result"
    }
   ],
   "source": [
    "arr1\n",
    "\n"
   ]
  },
  {
   "cell_type": "code",
   "execution_count": 14,
   "id": "07b1afe7",
   "metadata": {},
   "outputs": [
    {
     "data": {
      "text/plain": [
       "9"
      ]
     },
     "execution_count": 14,
     "metadata": {},
     "output_type": "execute_result"
    }
   ],
   "source": [
    "arr1.max()"
   ]
  },
  {
   "cell_type": "code",
   "execution_count": 15,
   "id": "50bf6f10",
   "metadata": {},
   "outputs": [
    {
     "data": {
      "text/plain": [
       "8"
      ]
     },
     "execution_count": 15,
     "metadata": {},
     "output_type": "execute_result"
    }
   ],
   "source": [
    "arr1.argmax() #maximum value ka index"
   ]
  },
  {
   "cell_type": "code",
   "execution_count": 16,
   "id": "f6981319",
   "metadata": {},
   "outputs": [
    {
     "data": {
      "text/plain": [
       "array([7, 8, 9])"
      ]
     },
     "execution_count": 16,
     "metadata": {},
     "output_type": "execute_result"
    }
   ],
   "source": [
    "arr1.max(axis=0) # 0 for row"
   ]
  },
  {
   "cell_type": "code",
   "execution_count": 17,
   "id": "79e4a653",
   "metadata": {},
   "outputs": [
    {
     "data": {
      "text/plain": [
       "array([3, 6, 9])"
      ]
     },
     "execution_count": 17,
     "metadata": {},
     "output_type": "execute_result"
    }
   ],
   "source": [
    "arr1.max(axis =1) # 1 for colom"
   ]
  },
  {
   "cell_type": "code",
   "execution_count": 18,
   "id": "b8e250dc",
   "metadata": {},
   "outputs": [
    {
     "data": {
      "text/plain": [
       "1"
      ]
     },
     "execution_count": 18,
     "metadata": {},
     "output_type": "execute_result"
    }
   ],
   "source": [
    "arr1.min()"
   ]
  },
  {
   "cell_type": "code",
   "execution_count": 19,
   "id": "fa2a0811",
   "metadata": {},
   "outputs": [
    {
     "data": {
      "text/plain": [
       "0"
      ]
     },
     "execution_count": 19,
     "metadata": {},
     "output_type": "execute_result"
    }
   ],
   "source": [
    "arr1.argmin() # for index of min value"
   ]
  },
  {
   "cell_type": "code",
   "execution_count": 20,
   "id": "dfc5dc13",
   "metadata": {},
   "outputs": [
    {
     "data": {
      "text/plain": [
       "array([1, 2, 3])"
      ]
     },
     "execution_count": 20,
     "metadata": {},
     "output_type": "execute_result"
    }
   ],
   "source": [
    "arr1.min(axis =0)"
   ]
  },
  {
   "cell_type": "code",
   "execution_count": 21,
   "id": "e59a39a0",
   "metadata": {},
   "outputs": [
    {
     "data": {
      "text/plain": [
       "array([1, 4, 7])"
      ]
     },
     "execution_count": 21,
     "metadata": {},
     "output_type": "execute_result"
    }
   ],
   "source": [
    "arr1.min(axis =1)"
   ]
  },
  {
   "cell_type": "code",
   "execution_count": 22,
   "id": "6cdb68ef",
   "metadata": {},
   "outputs": [
    {
     "data": {
      "text/plain": [
       "array([[1, 2, 3],\n",
       "       [4, 5, 6],\n",
       "       [7, 8, 9]])"
      ]
     },
     "execution_count": 22,
     "metadata": {},
     "output_type": "execute_result"
    }
   ],
   "source": [
    "arr1\n"
   ]
  },
  {
   "cell_type": "code",
   "execution_count": 23,
   "id": "56a82851",
   "metadata": {},
   "outputs": [
    {
     "data": {
      "text/plain": [
       "array([[1, 2, 3],\n",
       "       [4, 5, 6],\n",
       "       [7, 8, 9]])"
      ]
     },
     "execution_count": 23,
     "metadata": {},
     "output_type": "execute_result"
    }
   ],
   "source": [
    "arr2"
   ]
  },
  {
   "cell_type": "code",
   "execution_count": 24,
   "id": "5ef24535",
   "metadata": {},
   "outputs": [
    {
     "data": {
      "text/plain": [
       "45"
      ]
     },
     "execution_count": 24,
     "metadata": {},
     "output_type": "execute_result"
    }
   ],
   "source": [
    "np.sum(arr1)"
   ]
  },
  {
   "cell_type": "code",
   "execution_count": 25,
   "id": "fc4f2180",
   "metadata": {},
   "outputs": [
    {
     "data": {
      "text/plain": [
       "array([12, 15, 18])"
      ]
     },
     "execution_count": 25,
     "metadata": {},
     "output_type": "execute_result"
    }
   ],
   "source": [
    "np.sum(arr1,axis =0) # sum ofeach rows"
   ]
  },
  {
   "cell_type": "code",
   "execution_count": 26,
   "id": "42150632",
   "metadata": {},
   "outputs": [
    {
     "data": {
      "text/plain": [
       "array([ 6, 15, 24])"
      ]
     },
     "execution_count": 26,
     "metadata": {},
     "output_type": "execute_result"
    }
   ],
   "source": [
    "np.sum(arr2,axis=1)#sum for each coloum"
   ]
  },
  {
   "cell_type": "code",
   "execution_count": 27,
   "id": "dd6587e6",
   "metadata": {},
   "outputs": [
    {
     "data": {
      "text/plain": [
       "5.0"
      ]
     },
     "execution_count": 27,
     "metadata": {},
     "output_type": "execute_result"
    }
   ],
   "source": [
    " np.mean(arr1) # average of arr\n",
    "    "
   ]
  },
  {
   "cell_type": "code",
   "execution_count": 28,
   "id": "6ceb5f86",
   "metadata": {},
   "outputs": [
    {
     "data": {
      "text/plain": [
       "array([4., 5., 6.])"
      ]
     },
     "execution_count": 28,
     "metadata": {},
     "output_type": "execute_result"
    }
   ],
   "source": [
    "np.mean(arr1,axis =0)"
   ]
  },
  {
   "cell_type": "code",
   "execution_count": 29,
   "id": "908c0e57",
   "metadata": {},
   "outputs": [
    {
     "data": {
      "text/plain": [
       "array([[1.        , 1.41421356, 1.73205081],\n",
       "       [2.        , 2.23606798, 2.44948974],\n",
       "       [2.64575131, 2.82842712, 3.        ]])"
      ]
     },
     "execution_count": 29,
     "metadata": {},
     "output_type": "execute_result"
    }
   ],
   "source": [
    "np.sqrt(arr1) #sqrt of each element"
   ]
  },
  {
   "cell_type": "code",
   "execution_count": 30,
   "id": "5a742315",
   "metadata": {},
   "outputs": [
    {
     "data": {
      "text/plain": [
       "2.581988897471611"
      ]
     },
     "execution_count": 30,
     "metadata": {},
     "output_type": "execute_result"
    }
   ],
   "source": [
    "np.std(arr1)#standerd division "
   ]
  },
  {
   "cell_type": "code",
   "execution_count": 31,
   "id": "f50f5cdc",
   "metadata": {},
   "outputs": [
    {
     "data": {
      "text/plain": [
       "array([[2.71828183e+00, 7.38905610e+00, 2.00855369e+01],\n",
       "       [5.45981500e+01, 1.48413159e+02, 4.03428793e+02],\n",
       "       [1.09663316e+03, 2.98095799e+03, 8.10308393e+03]])"
      ]
     },
     "execution_count": 31,
     "metadata": {},
     "output_type": "execute_result"
    }
   ],
   "source": [
    "np.exp(arr1) #exponent"
   ]
  },
  {
   "cell_type": "code",
   "execution_count": 32,
   "id": "f57c2d9d",
   "metadata": {},
   "outputs": [
    {
     "data": {
      "text/plain": [
       "array([[0.        , 0.69314718, 1.09861229],\n",
       "       [1.38629436, 1.60943791, 1.79175947],\n",
       "       [1.94591015, 2.07944154, 2.19722458]])"
      ]
     },
     "execution_count": 32,
     "metadata": {},
     "output_type": "execute_result"
    }
   ],
   "source": [
    "np.log(arr1)"
   ]
  },
  {
   "cell_type": "code",
   "execution_count": 33,
   "id": "d24321b7",
   "metadata": {},
   "outputs": [
    {
     "data": {
      "text/plain": [
       "array([[0.        , 0.30103   , 0.47712125],\n",
       "       [0.60205999, 0.69897   , 0.77815125],\n",
       "       [0.84509804, 0.90308999, 0.95424251]])"
      ]
     },
     "execution_count": 33,
     "metadata": {},
     "output_type": "execute_result"
    }
   ],
   "source": [
    "np.log10(arr1)"
   ]
  },
  {
   "cell_type": "markdown",
   "id": "6686ee52",
   "metadata": {},
   "source": [
    "# Rivision --> 1(part --->1 ,2)"
   ]
  },
  {
   "cell_type": "code",
   "execution_count": null,
   "id": "048d3dff",
   "metadata": {},
   "outputs": [],
   "source": [
    "# arr_3d = np.array([[[1,2,3,4,5],[1,2,3,4,5]],[[1,2,3,4,8],[1,4,5,6,8]]])\n",
    "arr_3 = np.array([[[1,2,3,4,5],[1,2,3,4,5]],[[1,2,3,4,8],[1,4,5,6,8]]])\n",
    "\n",
    "a=arr_3d.shape\n",
    "aa=arr_3d.size\n",
    "az=arr_3d.ndim\n",
    "q=arr_3d.dtype\n",
    "w=type(arr_3d)\n",
    "ones= np.ones((1,2),dtype= bool)\n",
    "epty=np.empty((1,2),dtype=int)\n",
    "zero=np.zeros((2,7),dtype=str)\n",
    "print(a,\"---\",aa,\"---\",az,\"----\",q,\"----\",w)\n",
    "#arr_3d *arr_3\n",
    "\n",
    "w=np.arange(1,21).reshape(4,1,5)\n",
    "q=np.linspace(1,5,8)\n",
    "d=np.ravel(w)\n",
    "dd=w.flatten()\n",
    "b=w.transpose()\n",
    "#print(d,\"\\n\",dd,\"\\n\",b,\"\\n\",w)\n",
    "print(ones)\n",
    "print(epty)\n",
    "print(zero)"
   ]
  },
  {
   "cell_type": "markdown",
   "id": "440e9a72",
   "metadata": {},
   "source": [
    "# Rivision ---->1"
   ]
  },
  {
   "cell_type": "code",
   "execution_count": 106,
   "id": "a532f9f9",
   "metadata": {},
   "outputs": [
    {
     "name": "stdout",
     "output_type": "stream",
     "text": [
      "2470 \n",
      " 2470 \n",
      " [ 2  4  6  8 10 12 14 16 18 20 22 24 26 28 30 32 34 36 38] \n",
      " [0 0 0 0 0 0 0 0 0 0 0 0 0 0 0 0 0 0 0] \n",
      " [1. 1. 1. 1. 1. 1. 1. 1. 1. 1. 1. 1. 1. 1. 1. 1. 1. 1. 1.] \n",
      "\n",
      "1 \n",
      " [ 1  6 11 16] \n",
      " 20 \n",
      " [16 17 18 19 20] \n",
      " 210 \n",
      " \n",
      "--- 19\n",
      "10.5 \n",
      "\n",
      " [[1.         1.41421356 1.73205081 2.         2.23606798]\n",
      " [2.44948974 2.64575131 2.82842712 3.         3.16227766]\n",
      " [3.31662479 3.46410162 3.60555128 3.74165739 3.87298335]\n",
      " [4.         4.12310563 4.24264069 4.35889894 4.47213595]] \n",
      "\n",
      " [[0.         0.69314718 1.09861229 1.38629436 1.60943791]\n",
      " [1.79175947 1.94591015 2.07944154 2.19722458 2.30258509]\n",
      " [2.39789527 2.48490665 2.56494936 2.63905733 2.7080502 ]\n",
      " [2.77258872 2.83321334 2.89037176 2.94443898 2.99573227]] \n",
      "\n",
      " [[0.         0.30103    0.47712125 0.60205999 0.69897   ]\n",
      " [0.77815125 0.84509804 0.90308999 0.95424251 1.        ]\n",
      " [1.04139269 1.07918125 1.11394335 1.14612804 1.17609126]\n",
      " [1.20411998 1.23044892 1.25527251 1.2787536  1.30103   ]] \n",
      "\n",
      " [[2.71828183e+00 7.38905610e+00 2.00855369e+01 5.45981500e+01\n",
      "  1.48413159e+02]\n",
      " [4.03428793e+02 1.09663316e+03 2.98095799e+03 8.10308393e+03\n",
      "  2.20264658e+04]\n",
      " [5.98741417e+04 1.62754791e+05 4.42413392e+05 1.20260428e+06\n",
      "  3.26901737e+06]\n",
      " [8.88611052e+06 2.41549528e+07 6.56599691e+07 1.78482301e+08\n",
      "  4.85165195e+08]]\n"
     ]
    }
   ],
   "source": [
    "mat1 =np.arange(1,21).reshape(4,5)\n",
    "mat2 =np.arange(1,21).reshape(4,5)\n",
    "arr1 =np.arange(1,20)\n",
    "arr2 =np.arange(1,20)\n",
    "\n",
    "prdcn = arr1 @ arr2\n",
    "f =arr1.dot(arr2)\n",
    "ff= np.add(arr1,arr2)\n",
    "ffs= np.subtract(arr1 ,arr2)\n",
    "df = np.divide(arr1 ,arr2)\n",
    "print(prdcn,\"\\n\",f,\"\\n\",ff,\"\\n\",ffs,\"\\n\",df,\"\\n\")\n",
    "\n",
    "\n",
    "a=mat1.min()\n",
    "aa=mat1.max()\n",
    "aaa= mat1.min(axis=1) #for col\n",
    "ass = mat1.max(axis=0) #forrow\n",
    "qa= mat1.sum()\n",
    "e = np.argmax(mat1)  #index of min value\n",
    "\n",
    "print(a,\"\\n\",aaa,\"\\n\",aa,\"\\n\",ass,\"\\n\",qa,\"\\n\",\"\\n---\",e)\n",
    "x= np.mean(mat1)\n",
    "c= np.sqrt(mat1)\n",
    "v =np.log(mat1)\n",
    "b= np.log10(mat1)\n",
    "bb =np.exp(mat2)\n",
    "st= np.std(mat2)\n",
    "print(x,\"\\n\\n\",c,\"\\n\\n\",v,\"\\n\\n\",b,\"\\n\\n\",bb)"
   ]
  },
  {
   "cell_type": "code",
   "execution_count": null,
   "id": "4e41fc75",
   "metadata": {},
   "outputs": [],
   "source": []
  }
 ],
 "metadata": {
  "kernelspec": {
   "display_name": "Python 3 (ipykernel)",
   "language": "python",
   "name": "python3"
  },
  "language_info": {
   "codemirror_mode": {
    "name": "ipython",
    "version": 3
   },
   "file_extension": ".py",
   "mimetype": "text/x-python",
   "name": "python",
   "nbconvert_exporter": "python",
   "pygments_lexer": "ipython3",
   "version": "3.11.4"
  }
 },
 "nbformat": 4,
 "nbformat_minor": 5
}
