{
 "cells": [
  {
   "cell_type": "markdown",
   "id": "12296c8a",
   "metadata": {},
   "source": [
    "# python numpy array conctination and split"
   ]
  },
  {
   "cell_type": "code",
   "execution_count": 1,
   "id": "48c25580",
   "metadata": {},
   "outputs": [],
   "source": [
    "import numpy as np"
   ]
  },
  {
   "cell_type": "code",
   "execution_count": 2,
   "id": "987338ad",
   "metadata": {},
   "outputs": [
    {
     "name": "stdout",
     "output_type": "stream",
     "text": [
      "[[ 1  2  3  4]\n",
      " [ 5  6  7  8]\n",
      " [ 9 10 11 12]\n",
      " [13 14 15 16]]\n"
     ]
    }
   ],
   "source": [
    "arr1= np.arange(1,17).reshape(4,4)\n",
    "print(arr1)"
   ]
  },
  {
   "cell_type": "code",
   "execution_count": 3,
   "id": "679b0ad5",
   "metadata": {},
   "outputs": [
    {
     "name": "stdout",
     "output_type": "stream",
     "text": [
      "[[17 18 19 20]\n",
      " [21 22 23 24]\n",
      " [25 26 27 28]\n",
      " [29 30 31 32]]\n"
     ]
    }
   ],
   "source": [
    "arr2= np.arange(17,33).reshape(4,4)\n",
    "print(arr2)"
   ]
  },
  {
   "cell_type": "code",
   "execution_count": 4,
   "id": "77ff1b93",
   "metadata": {},
   "outputs": [
    {
     "data": {
      "text/plain": [
       "[1, 2, 3, 4, 5, 2, 3, 4, 5, 5]"
      ]
     },
     "execution_count": 4,
     "metadata": {},
     "output_type": "execute_result"
    }
   ],
   "source": [
    "list1 =[1,2,3,4,5]\n",
    "list2 =[2,3,4,5,5]\n",
    "list1 +list2"
   ]
  },
  {
   "cell_type": "markdown",
   "id": "4484a934",
   "metadata": {},
   "source": [
    "# concatination  of array"
   ]
  },
  {
   "cell_type": "code",
   "execution_count": 5,
   "id": "3758a689",
   "metadata": {},
   "outputs": [
    {
     "data": {
      "text/plain": [
       "array([[ 1,  2,  3,  4],\n",
       "       [ 5,  6,  7,  8],\n",
       "       [ 9, 10, 11, 12],\n",
       "       [13, 14, 15, 16],\n",
       "       [17, 18, 19, 20],\n",
       "       [21, 22, 23, 24],\n",
       "       [25, 26, 27, 28],\n",
       "       [29, 30, 31, 32]])"
      ]
     },
     "execution_count": 5,
     "metadata": {},
     "output_type": "execute_result"
    }
   ],
   "source": [
    "np.concatenate((arr1,arr2))"
   ]
  },
  {
   "cell_type": "code",
   "execution_count": 6,
   "id": "283a6bd8",
   "metadata": {},
   "outputs": [
    {
     "data": {
      "text/plain": [
       "array([[ 1,  2,  3,  4, 17, 18, 19, 20],\n",
       "       [ 5,  6,  7,  8, 21, 22, 23, 24],\n",
       "       [ 9, 10, 11, 12, 25, 26, 27, 28],\n",
       "       [13, 14, 15, 16, 29, 30, 31, 32]])"
      ]
     },
     "execution_count": 6,
     "metadata": {},
     "output_type": "execute_result"
    }
   ],
   "source": [
    "np.concatenate((arr1,arr2),axis = 1)"
   ]
  },
  {
   "cell_type": "code",
   "execution_count": 7,
   "id": "321480c5",
   "metadata": {},
   "outputs": [
    {
     "data": {
      "text/plain": [
       "array([[ 1,  2,  3,  4],\n",
       "       [ 5,  6,  7,  8],\n",
       "       [ 9, 10, 11, 12],\n",
       "       [13, 14, 15, 16],\n",
       "       [17, 18, 19, 20],\n",
       "       [21, 22, 23, 24],\n",
       "       [25, 26, 27, 28],\n",
       "       [29, 30, 31, 32]])"
      ]
     },
     "execution_count": 7,
     "metadata": {},
     "output_type": "execute_result"
    }
   ],
   "source": [
    "np.vstack((arr1,arr2)) # vatical concatenate of arrays"
   ]
  },
  {
   "cell_type": "code",
   "execution_count": 8,
   "id": "bc2ba82f",
   "metadata": {},
   "outputs": [
    {
     "data": {
      "text/plain": [
       "array([[ 1,  2,  3,  4, 17, 18, 19, 20],\n",
       "       [ 5,  6,  7,  8, 21, 22, 23, 24],\n",
       "       [ 9, 10, 11, 12, 25, 26, 27, 28],\n",
       "       [13, 14, 15, 16, 29, 30, 31, 32]])"
      ]
     },
     "execution_count": 8,
     "metadata": {},
     "output_type": "execute_result"
    }
   ],
   "source": [
    "np.hstack((arr1,arr2)) # horizontal concatination "
   ]
  },
  {
   "cell_type": "markdown",
   "id": "41b8233f",
   "metadata": {},
   "source": [
    "# spilit"
   ]
  },
  {
   "cell_type": "code",
   "execution_count": 9,
   "id": "62161935",
   "metadata": {},
   "outputs": [
    {
     "data": {
      "text/plain": [
       "[array([[1, 2, 3, 4],\n",
       "        [5, 6, 7, 8]]),\n",
       " array([[ 9, 10, 11, 12],\n",
       "        [13, 14, 15, 16]])]"
      ]
     },
     "execution_count": 9,
     "metadata": {},
     "output_type": "execute_result"
    }
   ],
   "source": [
    "list1 =np.split(arr1,2)\n",
    "list1"
   ]
  },
  {
   "cell_type": "code",
   "execution_count": 10,
   "id": "229f6826",
   "metadata": {},
   "outputs": [
    {
     "data": {
      "text/plain": [
       "list"
      ]
     },
     "execution_count": 10,
     "metadata": {},
     "output_type": "execute_result"
    }
   ],
   "source": [
    "type(list1)"
   ]
  },
  {
   "cell_type": "code",
   "execution_count": 11,
   "id": "5421adeb",
   "metadata": {},
   "outputs": [
    {
     "data": {
      "text/plain": [
       "array([[1, 2, 3, 4],\n",
       "       [5, 6, 7, 8]])"
      ]
     },
     "execution_count": 11,
     "metadata": {},
     "output_type": "execute_result"
    }
   ],
   "source": [
    "list1[0]"
   ]
  },
  {
   "cell_type": "code",
   "execution_count": 12,
   "id": "4411da9c",
   "metadata": {},
   "outputs": [
    {
     "data": {
      "text/plain": [
       "array([[ 1,  2,  3,  4],\n",
       "       [ 5,  6,  7,  8],\n",
       "       [ 9, 10, 11, 12],\n",
       "       [13, 14, 15, 16]])"
      ]
     },
     "execution_count": 12,
     "metadata": {},
     "output_type": "execute_result"
    }
   ],
   "source": [
    "arr1"
   ]
  },
  {
   "cell_type": "code",
   "execution_count": 13,
   "id": "ce389c25",
   "metadata": {},
   "outputs": [
    {
     "data": {
      "text/plain": [
       "numpy.ndarray"
      ]
     },
     "execution_count": 13,
     "metadata": {},
     "output_type": "execute_result"
    }
   ],
   "source": [
    "type(list1[0])"
   ]
  },
  {
   "cell_type": "code",
   "execution_count": 14,
   "id": "626f30f6",
   "metadata": {},
   "outputs": [
    {
     "data": {
      "text/plain": [
       "[array([[ 1,  2],\n",
       "        [ 5,  6],\n",
       "        [ 9, 10],\n",
       "        [13, 14]]),\n",
       " array([[ 3,  4],\n",
       "        [ 7,  8],\n",
       "        [11, 12],\n",
       "        [15, 16]])]"
      ]
     },
     "execution_count": 14,
     "metadata": {},
     "output_type": "execute_result"
    }
   ],
   "source": [
    "np.split(arr1,2,axis =1)"
   ]
  },
  {
   "cell_type": "code",
   "execution_count": 15,
   "id": "b982d1ce",
   "metadata": {},
   "outputs": [
    {
     "data": {
      "text/plain": [
       "[array([[1, 2, 3, 4]]),\n",
       " array([[5, 6, 7, 8]]),\n",
       " array([[ 9, 10, 11, 12]]),\n",
       " array([[13, 14, 15, 16]])]"
      ]
     },
     "execution_count": 15,
     "metadata": {},
     "output_type": "execute_result"
    }
   ],
   "source": [
    "np.split(arr1,4 ,axis =0)"
   ]
  },
  {
   "cell_type": "code",
   "execution_count": 16,
   "id": "a6072b1c",
   "metadata": {},
   "outputs": [],
   "source": [
    "d1 =np.array([4,5,5,6,6,21,4])"
   ]
  },
  {
   "cell_type": "code",
   "execution_count": 18,
   "id": "2889bf29",
   "metadata": {},
   "outputs": [
    {
     "data": {
      "text/plain": [
       "[array([4]), array([5]), array([ 5,  6,  6, 21]), array([4])]"
      ]
     },
     "execution_count": 18,
     "metadata": {},
     "output_type": "execute_result"
    }
   ],
   "source": [
    "np.split(d1,[1,2,6])"
   ]
  },
  {
   "cell_type": "markdown",
   "id": "90d94580",
   "metadata": {},
   "source": [
    "# Rivision    --->1"
   ]
  }
 ],
 "metadata": {
  "kernelspec": {
   "display_name": "Python 3 (ipykernel)",
   "language": "python",
   "name": "python3"
  },
  "language_info": {
   "codemirror_mode": {
    "name": "ipython",
    "version": 3
   },
   "file_extension": ".py",
   "mimetype": "text/x-python",
   "name": "python",
   "nbconvert_exporter": "python",
   "pygments_lexer": "ipython3",
   "version": "3.11.4"
  }
 },
 "nbformat": 4,
 "nbformat_minor": 5
}
