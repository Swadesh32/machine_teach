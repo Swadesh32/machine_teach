{
 "cells": [
  {
   "cell_type": "markdown",
   "id": "8ff96aae",
   "metadata": {},
   "source": [
    "# RANDOM Sampling with numpy"
   ]
  },
  {
   "cell_type": "code",
   "execution_count": 1,
   "id": "ad7ab5e9",
   "metadata": {},
   "outputs": [],
   "source": [
    "import numpy as np\n",
    "import random as rdm"
   ]
  },
  {
   "cell_type": "code",
   "execution_count": 2,
   "id": "e30bd6cd",
   "metadata": {},
   "outputs": [
    {
     "data": {
      "text/plain": [
       "array([0.87459176])"
      ]
     },
     "execution_count": 2,
     "metadata": {},
     "output_type": "execute_result"
    }
   ],
   "source": [
    "np.random.random(1) #random me 1 shape h (row)"
   ]
  },
  {
   "cell_type": "code",
   "execution_count": 3,
   "id": "6a255fdf",
   "metadata": {},
   "outputs": [
    {
     "data": {
      "text/plain": [
       "array([[0.35398417, 0.79261145, 0.14132137]])"
      ]
     },
     "execution_count": 3,
     "metadata": {},
     "output_type": "execute_result"
    }
   ],
   "source": [
    "np.random.random((1,3)) # for create arr , random((row, colom))"
   ]
  },
  {
   "cell_type": "code",
   "execution_count": 4,
   "id": "758ca8b3",
   "metadata": {},
   "outputs": [
    {
     "data": {
      "text/plain": [
       "array([[0.40522459, 0.46770176, 0.61511403],\n",
       "       [0.7436018 , 0.43814374, 0.06738242],\n",
       "       [0.64583106, 0.95616746, 0.84791168],\n",
       "       [0.31256802, 0.52441615, 0.45315345]])"
      ]
     },
     "execution_count": 4,
     "metadata": {},
     "output_type": "execute_result"
    }
   ],
   "source": [
    "np.random.random((4,3))"
   ]
  },
  {
   "cell_type": "code",
   "execution_count": 6,
   "id": "3deade6f",
   "metadata": {},
   "outputs": [
    {
     "data": {
      "text/plain": [
       "2"
      ]
     },
     "execution_count": 6,
     "metadata": {},
     "output_type": "execute_result"
    }
   ],
   "source": [
    "np.random.randint(1,4)315345]])\n",
    "1,4\n",
    "       [0.7436018 , 0.43814374, 0.06738242],\n",
    "       [0.64583106, 0.95616746, 0.84791168],\n",
    "       [0.31256802, 0.52441615, 0.45315345]])\n",
    "315345]])\n",
    "1,4\n",
    "np.random.randint(1,4)\n",
    "2\n",
    "np.random.randint(1,4,(2,4,4))   #2d array\n",
    "np.random.randint(1,4,(2,4,4))   #2d array\n",
    "array([[[2, 3, 3, 3],\n",
    "        [3, 3, 2, 1],\n",
    "np.random.randint(1,4)315345]])\n",
    "np.random.randint(1,4)\n",
    "2\n",
    "np.random.randint(1,4,(2,4,4))   #2d array\n",
    "np.random.randint(1,4,(2,4,4))   #2d array\n",
    "array([[[2, 3, 3, 3],\n",
    "        [3, 3, 2, 1],"
   ]
  },
  {
   "cell_type": "code",
   "execution_count": 8,
   "id": "052a2b15",
   "metadata": {},
   "outputs": [
    {
     "data": {
      "text/plain": [
       "array([[[2, 3, 3, 3],\n",
       "        [3, 3, 2, 1],\n",
       "        [3, 1, 3, 1],\n",
       "        [2, 3, 3, 2]],\n",
       "\n",
       "       [[2, 3, 2, 2],\n",
       "        [1, 2, 3, 2],\n",
       "        [3, 1, 2, 2],\n",
       "        [2, 2, 2, 1]]])"
      ]
     },
     "execution_count": 8,
     "metadata": {},
     "output_type": "execute_result"
    }
   ],
   "source": [
    "np.random.randint(1,4,(2,4,4))   #2d array"
   ]
  },
  {
   "cell_type": "code",
   "execution_count": 9,
   "id": "1c1d1947",
   "metadata": {},
   "outputs": [
    {
     "data": {
      "text/plain": [
       "array([[[3, 2, 2, 1],\n",
       "        [3, 2, 1, 1],\n",
       "        [1, 1, 3, 2],\n",
       "        [2, 1, 3, 2]]])"
      ]
     },
     "execution_count": 9,
     "metadata": {},
     "output_type": "execute_result"
    }
   ],
   "source": [
    "np.random.randint(1,4,(1,4,4))#1d array"
   ]
  },
  {
   "cell_type": "code",
   "execution_count": 10,
   "id": "a8220816",
   "metadata": {},
   "outputs": [
    {
     "data": {
      "text/plain": [
       "array([[[1, 1, 2, 1],\n",
       "        [1, 2, 3, 1],\n",
       "        [1, 2, 2, 3],\n",
       "        [2, 1, 1, 2]],\n",
       "\n",
       "       [[2, 2, 2, 2],\n",
       "        [1, 1, 2, 3],\n",
       "        [3, 3, 2, 2],\n",
       "        [3, 2, 3, 1]],\n",
       "\n",
       "       [[3, 3, 2, 1],\n",
       "        [2, 2, 2, 3],\n",
       "        [3, 1, 1, 3],\n",
       "        [3, 1, 1, 2]]])"
      ]
     },
     "execution_count": 10,
     "metadata": {},
     "output_type": "execute_result"
    }
   ],
   "source": [
    "np.random.randint(1,4,(3,4,4)) #3d array"
   ]
  },
  {
   "cell_type": "code",
   "execution_count": 14,
   "id": "97dab176",
   "metadata": {},
   "outputs": [
    {
     "data": {
      "text/plain": [
       "array([[[2, 2, 1, 1],\n",
       "        [2, 1, 2, 2],\n",
       "        [1, 2, 2, 3],\n",
       "        [1, 2, 1, 3]],\n",
       "\n",
       "       [[1, 3, 1, 1],\n",
       "        [1, 3, 1, 3],\n",
       "        [3, 2, 1, 1],\n",
       "        [3, 2, 3, 2]]])"
      ]
     },
     "execution_count": 14,
     "metadata": {},
     "output_type": "execute_result"
    }
   ],
   "source": [
    "np.random.seed(10)\n",
    "np.random.randint(1,4, (2,4,4))"
   ]
  },
  {
   "cell_type": "code",
   "execution_count": 15,
   "id": "5d7f3735",
   "metadata": {},
   "outputs": [
    {
     "data": {
      "text/plain": [
       "4294967295"
      ]
     },
     "execution_count": 15,
     "metadata": {},
     "output_type": "execute_result"
    }
   ],
   "source": [
    "2**32 -1"
   ]
  },
  {
   "cell_type": "code",
   "execution_count": 16,
   "id": "f3c0a3a6",
   "metadata": {},
   "outputs": [
    {
     "data": {
      "text/plain": [
       "array([0.13145815, 0.41366737, 0.77872881])"
      ]
     },
     "execution_count": 16,
     "metadata": {},
     "output_type": "execute_result"
    }
   ],
   "source": [
    "np.random.rand(3)"
   ]
  },
  {
   "cell_type": "code",
   "execution_count": 17,
   "id": "9468747c",
   "metadata": {},
   "outputs": [
    {
     "data": {
      "text/plain": [
       "array([[0.58390137, 0.18263144, 0.82608225],\n",
       "       [0.10540183, 0.28357668, 0.06556327],\n",
       "       [0.05644419, 0.76545582, 0.01178803]])"
      ]
     },
     "execution_count": 17,
     "metadata": {},
     "output_type": "execute_result"
    }
   ],
   "source": [
    "np.random.rand(3,3)"
   ]
  },
  {
   "cell_type": "code",
   "execution_count": 18,
   "id": "87de2e98",
   "metadata": {},
   "outputs": [
    {
     "data": {
      "text/plain": [
       "array([[-1.58494101,  1.05535316, -1.92657911],\n",
       "       [ 0.69858388, -0.74620143, -0.15662666],\n",
       "       [-0.19363594,  1.13912535,  0.36221796]])"
      ]
     },
     "execution_count": 18,
     "metadata": {},
     "output_type": "execute_result"
    }
   ],
   "source": [
    "np.random.randn(3,3)"
   ]
  },
  {
   "cell_type": "code",
   "execution_count": 19,
   "id": "d754155c",
   "metadata": {},
   "outputs": [
    {
     "data": {
      "text/plain": [
       "1"
      ]
     },
     "execution_count": 19,
     "metadata": {},
     "output_type": "execute_result"
    }
   ],
   "source": [
    "x =[1,2,3,4,5,6]\n",
    "np.random.choice(x)"
   ]
  },
  {
   "cell_type": "code",
   "execution_count": 20,
   "id": "27f6ed68",
   "metadata": {},
   "outputs": [
    {
     "name": "stdout",
     "output_type": "stream",
     "text": [
      "1\n",
      "5\n",
      "6\n",
      "5\n",
      "1\n",
      "1\n",
      "3\n",
      "5\n",
      "3\n",
      "1\n"
     ]
    }
   ],
   "source": [
    "for i in range(1,11):\n",
    "    print(np.random.choice(x))"
   ]
  },
  {
   "cell_type": "code",
   "execution_count": 21,
   "id": "ef04bfd6",
   "metadata": {},
   "outputs": [
    {
     "data": {
      "text/plain": [
       "[1, 2, 3, 4, 5, 6]"
      ]
     },
     "execution_count": 21,
     "metadata": {},
     "output_type": "execute_result"
    }
   ],
   "source": [
    "x"
   ]
  },
  {
   "cell_type": "code",
   "execution_count": 22,
   "id": "436fcdb1",
   "metadata": {},
   "outputs": [
    {
     "data": {
      "text/plain": [
       "array([3, 5, 2, 4, 1, 6])"
      ]
     },
     "execution_count": 22,
     "metadata": {},
     "output_type": "execute_result"
    }
   ],
   "source": [
    "np.random.permutation(x)"
   ]
  },
  {
   "cell_type": "code",
   "execution_count": 23,
   "id": "6317d5a6",
   "metadata": {},
   "outputs": [
    {
     "data": {
      "text/plain": [
       "array([2, 4, 1, 5, 3, 6])"
      ]
     },
     "execution_count": 23,
     "metadata": {},
     "output_type": "execute_result"
    }
   ],
   "source": [
    "np.random.permutation(x)"
   ]
  },
  {
   "cell_type": "code",
   "execution_count": 24,
   "id": "82391bac",
   "metadata": {},
   "outputs": [
    {
     "data": {
      "text/plain": [
       "array([6, 2, 4, 3, 1, 5])"
      ]
     },
     "execution_count": 24,
     "metadata": {},
     "output_type": "execute_result"
    }
   ],
   "source": [
    "np.random.permutation(x)"
   ]
  },
  {
   "cell_type": "code",
   "execution_count": null,
   "id": "7c139efd",
   "metadata": {},
   "outputs": [],
   "source": []
  }
 ],
 "metadata": {
  "kernelspec": {
   "display_name": "Python 3 (ipykernel)",
   "language": "python",
   "name": "python3"
  },
  "language_info": {
   "codemirror_mode": {
    "name": "ipython",
    "version": 3
   },
   "file_extension": ".py",
   "mimetype": "text/x-python",
   "name": "python",
   "nbconvert_exporter": "python",
   "pygments_lexer": "ipython3",
   "version": "3.11.4"
  }
 },
 "nbformat": 4,
 "nbformat_minor": 5
}
