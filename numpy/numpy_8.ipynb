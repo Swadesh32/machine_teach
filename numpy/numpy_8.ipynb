{
 "cells": [
  {
   "cell_type": "markdown",
   "id": "3ee0036d",
   "metadata": {},
   "source": [
    "# String Operation , Compaaarrison and information"
   ]
  },
  {
   "cell_type": "code",
   "execution_count": 1,
   "id": "598eac77",
   "metadata": {},
   "outputs": [],
   "source": [
    "import numpy as np"
   ]
  },
  {
   "cell_type": "code",
   "execution_count": 2,
   "id": "cb180386",
   "metadata": {},
   "outputs": [],
   "source": [
    "char =\"helllo my name swadesh\"\n",
    "str1 = \"machine learning\""
   ]
  },
  {
   "cell_type": "code",
   "execution_count": 3,
   "id": "317c3f25",
   "metadata": {},
   "outputs": [
    {
     "data": {
      "text/plain": [
       "array('helllo my name swadeshmachine learning', dtype='<U38')"
      ]
     },
     "execution_count": 3,
     "metadata": {},
     "output_type": "execute_result"
    }
   ],
   "source": [
    "np.char.add(char,str1)"
   ]
  },
  {
   "cell_type": "code",
   "execution_count": 4,
   "id": "dff18a16",
   "metadata": {},
   "outputs": [
    {
     "data": {
      "text/plain": [
       "array('helllo my name swadesh', dtype='<U22')"
      ]
     },
     "execution_count": 4,
     "metadata": {},
     "output_type": "execute_result"
    }
   ],
   "source": [
    "np.char.lower(char)"
   ]
  },
  {
   "cell_type": "code",
   "execution_count": 5,
   "id": "41aba0fd",
   "metadata": {},
   "outputs": [
    {
     "data": {
      "text/plain": [
       "array('MACHINE LEARNING', dtype='<U16')"
      ]
     },
     "execution_count": 5,
     "metadata": {},
     "output_type": "execute_result"
    }
   ],
   "source": [
    "np.char.upper(str1)"
   ]
  },
  {
   "cell_type": "code",
   "execution_count": 6,
   "id": "3cd78fbb",
   "metadata": {},
   "outputs": [
    {
     "data": {
      "text/plain": [
       "array('                      machine learning                      ',\n",
       "      dtype='<U60')"
      ]
     },
     "execution_count": 6,
     "metadata": {},
     "output_type": "execute_result"
    }
   ],
   "source": [
    "np.char.center(str1,60)"
   ]
  },
  {
   "cell_type": "code",
   "execution_count": 9,
   "id": "cdf00971",
   "metadata": {},
   "outputs": [
    {
     "data": {
      "text/plain": [
       "array('^^^^^^^^^^^^^^^^^^^^^^machine learning^^^^^^^^^^^^^^^^^^^^^^',\n",
       "      dtype='<U60')"
      ]
     },
     "execution_count": 9,
     "metadata": {},
     "output_type": "execute_result"
    }
   ],
   "source": [
    "np.char.center(str1,60,fillchar=\"^\")"
   ]
  },
  {
   "cell_type": "code",
   "execution_count": 10,
   "id": "7783e288",
   "metadata": {},
   "outputs": [
    {
     "data": {
      "text/plain": [
       "array(list(['helllo', 'my', 'name', 'swadesh']), dtype=object)"
      ]
     },
     "execution_count": 10,
     "metadata": {},
     "output_type": "execute_result"
    }
   ],
   "source": [
    "np.char.split(char)"
   ]
  },
  {
   "cell_type": "code",
   "execution_count": 12,
   "id": "e521b847",
   "metadata": {},
   "outputs": [
    {
     "data": {
      "text/plain": [
       "array(list(['swadesh', 'maurya']), dtype=object)"
      ]
     },
     "execution_count": 12,
     "metadata": {},
     "output_type": "execute_result"
    }
   ],
   "source": [
    "np.char.splitlines(\"swadesh\\nmaurya\")"
   ]
  },
  {
   "cell_type": "code",
   "execution_count": 13,
   "id": "4f3ea995",
   "metadata": {},
   "outputs": [],
   "source": [
    "str4 =\"day\"\n",
    "str5 = \"day\""
   ]
  },
  {
   "cell_type": "code",
   "execution_count": 14,
   "id": "1d9a4b20",
   "metadata": {},
   "outputs": [
    {
     "data": {
      "text/plain": [
       "array(['d:a:y', 'd/a/y'], dtype='<U5')"
      ]
     },
     "execution_count": 14,
     "metadata": {},
     "output_type": "execute_result"
    }
   ],
   "source": [
    "np.char.join([\":\",\"/\"],[str4,str5])"
   ]
  },
  {
   "cell_type": "code",
   "execution_count": 15,
   "id": "c0938ff0",
   "metadata": {},
   "outputs": [
    {
     "data": {
      "text/plain": [
       "array('helllo my name akshat', dtype='<U21')"
      ]
     },
     "execution_count": 15,
     "metadata": {},
     "output_type": "execute_result"
    }
   ],
   "source": [
    "np.char.replace(char,\"swadesh\", \"akshat\")"
   ]
  },
  {
   "cell_type": "code",
   "execution_count": 16,
   "id": "75686ea0",
   "metadata": {},
   "outputs": [
    {
     "data": {
      "text/plain": [
       "array(True)"
      ]
     },
     "execution_count": 16,
     "metadata": {},
     "output_type": "execute_result"
    }
   ],
   "source": [
    "np.char.equal(str4,str5)"
   ]
  },
  {
   "cell_type": "code",
   "execution_count": 18,
   "id": "4ec1d10e",
   "metadata": {},
   "outputs": [
    {
     "data": {
      "text/plain": [
       "array(2)"
      ]
     },
     "execution_count": 18,
     "metadata": {},
     "output_type": "execute_result"
    }
   ],
   "source": [
    "np.char.count(char,\"a\")"
   ]
  },
  {
   "cell_type": "code",
   "execution_count": 19,
   "id": "2c6eda29",
   "metadata": {},
   "outputs": [
    {
     "data": {
      "text/plain": [
       "'helllo my name swadesh'"
      ]
     },
     "execution_count": 19,
     "metadata": {},
     "output_type": "execute_result"
    }
   ],
   "source": [
    "char"
   ]
  },
  {
   "cell_type": "code",
   "execution_count": 20,
   "id": "51dd91e8",
   "metadata": {},
   "outputs": [
    {
     "data": {
      "text/plain": [
       "array(15)"
      ]
     },
     "execution_count": 20,
     "metadata": {},
     "output_type": "execute_result"
    }
   ],
   "source": [
    "np.char.find(char,\"swadesh\")"
   ]
  },
  {
   "cell_type": "code",
   "execution_count": null,
   "id": "96f08b04",
   "metadata": {},
   "outputs": [],
   "source": []
  }
 ],
 "metadata": {
  "kernelspec": {
   "display_name": "Python 3 (ipykernel)",
   "language": "python",
   "name": "python3"
  },
  "language_info": {
   "codemirror_mode": {
    "name": "ipython",
    "version": 3
   },
   "file_extension": ".py",
   "mimetype": "text/x-python",
   "name": "python",
   "nbconvert_exporter": "python",
   "pygments_lexer": "ipython3",
   "version": "3.11.4"
  }
 },
 "nbformat": 4,
 "nbformat_minor": 5
}
